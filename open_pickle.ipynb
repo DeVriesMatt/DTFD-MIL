{
 "cells": [
  {
   "cell_type": "code",
   "execution_count": 8,
   "id": "ece7903c-a40d-400d-b69d-eae395c14cc4",
   "metadata": {
    "collapsed": false,
    "jupyter": {
     "outputs_hidden": false
    }
   },
   "outputs": [],
   "source": [
    "import pickle\n",
    "with open(\"/mnt/nvme0n1/ICCV/brca/features_train_0.pickle\", 'rb') as f:\n",
    "    mDATA_test = pickle.load(f)"
   ]
  },
  {
   "cell_type": "code",
   "execution_count": 14,
   "id": "301f871d-d608-45ac-b381-67d0bcf15b79",
   "metadata": {},
   "outputs": [
    {
     "data": {
      "text/plain": [
       "tensor([[-0.7228, -1.0870,  1.0325,  ..., -2.1837, -0.0146,  2.4415],\n",
       "        [ 0.1002, -2.8883,  2.0122,  ..., -2.3093, -0.0433,  0.7914],\n",
       "        [-0.2535,  1.2572,  0.1457,  ..., -1.0788,  1.0044, -0.5582],\n",
       "        ...,\n",
       "        [-1.0658, -0.7543,  0.1876,  ..., -1.5562,  0.3964,  0.5278],\n",
       "        [ 1.1339, -1.3721, -0.5409,  ..., -1.3142,  0.3238, -0.2877],\n",
       "        [-1.1977,  2.0937,  1.2604,  ..., -2.2146, -2.4401, -0.2765]])"
      ]
     },
     "execution_count": 14,
     "metadata": {},
     "output_type": "execute_result"
    }
   ],
   "source": [
    "mDATA_test['TCGA-LL-A440-01Z-00-DX1.6E031FD6-236C-49FA-B920-4CB120C59037_features']"
   ]
  },
  {
   "cell_type": "code",
   "execution_count": null,
   "id": "9cf18bae-7a2c-4fd9-9793-717cfa9d93a2",
   "metadata": {},
   "outputs": [],
   "source": []
  }
 ],
 "metadata": {
  "kernelspec": {
   "display_name": "Python 3 (ipykernel)",
   "language": "python",
   "name": "python3"
  },
  "language_info": {
   "codemirror_mode": {
    "name": "ipython",
    "version": 3
   },
   "file_extension": ".py",
   "mimetype": "text/x-python",
   "name": "python",
   "nbconvert_exporter": "python",
   "pygments_lexer": "ipython3",
   "version": "3.11.7"
  }
 },
 "nbformat": 4,
 "nbformat_minor": 5
}
